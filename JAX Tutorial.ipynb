{
 "cells": [
  {
   "cell_type": "code",
   "execution_count": null,
   "metadata": {},
   "outputs": [],
   "source": [
    "import numpy as np\n",
    "import jax\n",
    "import jax.numpy as jnp\n",
    "import matplotlib.pyplot as plt\n",
    "import seaborn as sns\n",
    "from matplotlib import ticker, cm"
   ]
  },
  {
   "cell_type": "markdown",
   "metadata": {},
   "source": [
    "### Random Number Generation"
   ]
  },
  {
   "cell_type": "code",
   "execution_count": null,
   "metadata": {},
   "outputs": [],
   "source": [
    "seed = 0\n",
    "key = jax.random.PRNGKey(seed)\n",
    "key, randkey = jax.random.split(key)\n",
    "samples = jax.random.normal(randkey, (15,))\n",
    "print(samples)"
   ]
  },
  {
   "cell_type": "code",
   "execution_count": null,
   "metadata": {},
   "outputs": [],
   "source": [
    "key, randkey = jax.random.split(key)\n",
    "samples = jax.random.normal(randkey, (15,))"
   ]
  },
  {
   "cell_type": "code",
   "execution_count": null,
   "metadata": {},
   "outputs": [],
   "source": [
    "samples"
   ]
  },
  {
   "cell_type": "markdown",
   "metadata": {},
   "source": [
    "### Beware of Side Effects - Use Pure Functions - Transformation & Compilation"
   ]
  },
  {
   "cell_type": "markdown",
   "metadata": {},
   "source": [
    "Pure Function: Always return same outputs to same inputs"
   ]
  },
  {
   "cell_type": "markdown",
   "metadata": {},
   "source": [
    "Example 1: Print side effect"
   ]
  },
  {
   "cell_type": "code",
   "execution_count": null,
   "metadata": {},
   "outputs": [],
   "source": [
    "def print_side_effect(x):\n",
    "    print(\"input type \", x.dtype)\n",
    "    return x**2"
   ]
  },
  {
   "cell_type": "code",
   "execution_count": null,
   "metadata": {},
   "outputs": [],
   "source": [
    "jax.jit(print_side_effect)(4)\n",
    "jax.jit(print_side_effect)(5)\n",
    "jax.jit(print_side_effect)(6.)"
   ]
  },
  {
   "cell_type": "code",
   "execution_count": null,
   "metadata": {},
   "outputs": [],
   "source": [
    "y = 5\n",
    "def global_side_effect(x):\n",
    "    return x + y"
   ]
  },
  {
   "cell_type": "code",
   "execution_count": null,
   "metadata": {},
   "outputs": [],
   "source": [
    "jax.jit(global_side_effect)(5)"
   ]
  },
  {
   "cell_type": "code",
   "execution_count": null,
   "metadata": {},
   "outputs": [],
   "source": [
    "y = 10\n",
    "jax.jit(global_side_effect)(6)"
   ]
  },
  {
   "cell_type": "code",
   "execution_count": null,
   "metadata": {},
   "outputs": [],
   "source": [
    "jax.jit(global_side_effect)(6.)"
   ]
  },
  {
   "cell_type": "markdown",
   "metadata": {},
   "source": [
    "### Himmelblau test function:\n",
    "\n",
    "$f(x, y) = (x^2 + y - 11)^2 + (x + y^2 - 7)^2$"
   ]
  },
  {
   "cell_type": "code",
   "execution_count": null,
   "metadata": {},
   "outputs": [],
   "source": [
    "def el_himmelblau(x, y):\n",
    "    return (x**2 + y - 11) ** 2 + (x + y**2 - 7) ** 2"
   ]
  },
  {
   "cell_type": "markdown",
   "metadata": {},
   "source": [
    "### jax.grad"
   ]
  },
  {
   "cell_type": "code",
   "execution_count": null,
   "metadata": {},
   "outputs": [],
   "source": [
    "p_x, p_y = 0., 0.\n",
    "print(el_himmelblau(p_x, p_y))\n",
    "print(jax.grad(el_himmelblau, 0)(p_x, p_y))\n",
    "print(jax.grad(el_himmelblau, 1)(p_x, p_y))\n",
    "print(jax.grad(el_himmelblau, (0,1))(p_x, p_y))\n",
    "print(jax.value_and_grad(el_himmelblau, (0,1))(p_x, p_y))"
   ]
  },
  {
   "cell_type": "code",
   "execution_count": null,
   "metadata": {},
   "outputs": [],
   "source": [
    "print(jax.grad(jax.grad(el_himmelblau, 0), 0)(p_x, p_y))\n",
    "print(jax.grad(jax.grad(el_himmelblau, 1), 1)(p_x, p_y))\n",
    "print(jax.grad(jax.grad(jax.grad(el_himmelblau, 0), 0), 0)(p_x, p_y))"
   ]
  },
  {
   "cell_type": "markdown",
   "metadata": {},
   "source": [
    "### jax.jacfwd & jax.jacrev"
   ]
  },
  {
   "cell_type": "code",
   "execution_count": null,
   "metadata": {},
   "outputs": [],
   "source": [
    "def himmelblau(inp):\n",
    "    x, y = inp[0], inp[1]\n",
    "    return (x**2 + y - 11) ** 2 + (x + y**2 - 7) ** 2"
   ]
  },
  {
   "cell_type": "code",
   "execution_count": null,
   "metadata": {},
   "outputs": [],
   "source": [
    "t = jnp.array([0.,0.])\n",
    "print(himmelblau(t))\n",
    "jac_fwd_t = jax.jacfwd(himmelblau)(t)\n",
    "print(jac_fwd_t)\n",
    "jac_rev_t = jax.jacrev(himmelblau)(t)\n",
    "print(jac_rev_t)"
   ]
  },
  {
   "cell_type": "markdown",
   "metadata": {},
   "source": [
    "### Hessian"
   ]
  },
  {
   "cell_type": "code",
   "execution_count": null,
   "metadata": {},
   "outputs": [],
   "source": [
    "def hessian(func):\n",
    "    return jax.jacfwd(jax.jacrev(func))"
   ]
  },
  {
   "cell_type": "code",
   "execution_count": null,
   "metadata": {},
   "outputs": [],
   "source": [
    "print(hessian(himmelblau)(t))"
   ]
  },
  {
   "cell_type": "markdown",
   "metadata": {},
   "source": [
    "### Automatic Vectorization - jax.vmap"
   ]
  },
  {
   "cell_type": "code",
   "execution_count": null,
   "metadata": {},
   "outputs": [],
   "source": [
    "def batch_himmelblau(data):\n",
    "    return jax.vmap(himmelblau, in_axes=0, out_axes=0)(data)"
   ]
  },
  {
   "cell_type": "code",
   "execution_count": null,
   "metadata": {},
   "outputs": [],
   "source": [
    "x = jnp.linspace(-5, 5, 100)\n",
    "y = jnp.linspace(-5, 5, 100)\n",
    "[X, Y] = np.meshgrid(x, y)\n",
    "data = jnp.array(list(zip(X.ravel(), Y.ravel())))"
   ]
  },
  {
   "cell_type": "code",
   "execution_count": null,
   "metadata": {
    "scrolled": true
   },
   "outputs": [],
   "source": [
    "X, Y, data"
   ]
  },
  {
   "cell_type": "code",
   "execution_count": null,
   "metadata": {},
   "outputs": [],
   "source": [
    "X.shape, Y.shape, data.shape"
   ]
  },
  {
   "cell_type": "code",
   "execution_count": null,
   "metadata": {},
   "outputs": [],
   "source": [
    "Z = batch_himmelblau(data)\n",
    "print(Z.shape)\n",
    "Z = Z.reshape(X.shape)\n",
    "print(Z.shape)"
   ]
  },
  {
   "cell_type": "code",
   "execution_count": null,
   "metadata": {},
   "outputs": [],
   "source": [
    "jacob = jax.vmap(jax.jacfwd(himmelblau), 0, 0)(data)"
   ]
  },
  {
   "cell_type": "markdown",
   "metadata": {},
   "source": [
    "### JIT Compilation (Just In Time Compilation)"
   ]
  },
  {
   "cell_type": "code",
   "execution_count": null,
   "metadata": {},
   "outputs": [],
   "source": [
    "%timeit hessian(himmelblau)(data[0]).block_until_ready()"
   ]
  },
  {
   "cell_type": "code",
   "execution_count": null,
   "metadata": {},
   "outputs": [],
   "source": [
    "jit_hessian = jax.jit(hessian(himmelblau))\n",
    "jit_jacfwd = jax.jit(jax.jacfwd(himmelblau))\n",
    "jit_vmap_hessian = jax.jit(jax.vmap(hessian(himmelblau), 0, 0))\n",
    "jit_himmelblau = jax.jit(himmelblau)"
   ]
  },
  {
   "cell_type": "code",
   "execution_count": null,
   "metadata": {},
   "outputs": [],
   "source": [
    "%timeit jit_hessian(data[0]).block_until_ready()"
   ]
  },
  {
   "cell_type": "code",
   "execution_count": null,
   "metadata": {},
   "outputs": [],
   "source": [
    "%timeit jax.vmap(hessian(himmelblau), 0, 0)(data).block_until_ready()"
   ]
  },
  {
   "cell_type": "code",
   "execution_count": null,
   "metadata": {},
   "outputs": [],
   "source": [
    "%timeit jit_vmap_hessian(data).block_until_ready()"
   ]
  },
  {
   "cell_type": "markdown",
   "metadata": {},
   "source": [
    "### plot arrows"
   ]
  },
  {
   "cell_type": "code",
   "execution_count": null,
   "metadata": {},
   "outputs": [],
   "source": [
    "def plot_arrows(X, Y, jacob):\n",
    "    for xx, yy, dxx, dyy in zip(X, Y, \n",
    "                                jacob[:, 0].reshape(X.shape), \n",
    "                                jacob[:, 1].reshape(X.shape)):\n",
    "        for x, dx in zip(xx, dxx):\n",
    "            y = yy[0]\n",
    "            dy = dyy[0]\n",
    "            plt.arrow(x, y, -dx/(jnp.linalg.norm([dx,dy])*2), \n",
    "                            -dy/(jnp.linalg.norm([dx,dy])*2), \n",
    "                            width=1e-5, length_includes_head=True, \n",
    "                            head_width=1e-1)"
   ]
  },
  {
   "cell_type": "code",
   "execution_count": null,
   "metadata": {},
   "outputs": [],
   "source": [
    "plt.figure(figsize=(8, 6), dpi=80)\n",
    "c = plt.contourf(X, Y, Z, locator=ticker.LogLocator(), levels=100)\n",
    "ax = jnp.linspace(-4, 4, 10)\n",
    "ay = jnp.linspace(-4, 4, 10)\n",
    "[aX, aY] = np.meshgrid(ax, ay)\n",
    "adata = jnp.array(list(zip(aX.ravel(), aY.ravel())))\n",
    "ajacob = jax.vmap(jax.jacfwd(himmelblau), 0, 0)(adata)\n",
    "plot_arrows(aX, aY, ajacob)\n",
    "plt.colorbar(c)\n",
    "plt.xlabel('x')\n",
    "plt.ylabel('y')\n",
    "plt.title('Default Himmelblau Contour Plot')\n",
    "plt.show()"
   ]
  },
  {
   "cell_type": "code",
   "execution_count": null,
   "metadata": {},
   "outputs": [],
   "source": [
    "fig, axes = plt.subplots(1, 2,figsize=(12, 6), dpi=80)\n",
    "c1 = axes[0].contourf(X, Y, jacob[:, 0].reshape(X.shape), levels=50)\n",
    "c2 = axes[1].contourf(X, Y, jacob[:, 1].reshape(X.shape), levels=50)\n",
    "plt.colorbar(c1, ax=axes[0])\n",
    "plt.colorbar(c2, ax=axes[1])\n",
    "axes[0].set_xlabel('x')\n",
    "axes[0].set_ylabel('y')\n",
    "axes[0].set_title('Default Himmelblau Jacobian Plot (wrt x)')\n",
    "axes[1].set_xlabel('x')\n",
    "axes[1].set_ylabel('y')\n",
    "axes[1].set_title('Default Himmelblau Jacobian Plot (wrt y)')"
   ]
  },
  {
   "cell_type": "markdown",
   "metadata": {},
   "source": [
    "### Gradient Descent"
   ]
  },
  {
   "cell_type": "code",
   "execution_count": null,
   "metadata": {},
   "outputs": [],
   "source": [
    "init_point = jnp.array([-1.0,2.0])"
   ]
  },
  {
   "cell_type": "code",
   "execution_count": null,
   "metadata": {},
   "outputs": [],
   "source": [
    "def gradient_descent(func, point, lr, eps=1e-2, max_it=500):\n",
    "    def gradient_descent_1it(p, lr):\n",
    "        jacob = jax.jacfwd(himmelblau)(p)\n",
    "        return p - lr * jacob, jnp.linalg.norm(jacob)\n",
    "    p = point\n",
    "    hist = [np.asarray(p)]\n",
    "    it = 0        \n",
    "    for i in range(max_it):\n",
    "        p, norm = gradient_descent_1it(p, lr)\n",
    "        hist.append(np.asarray(p))\n",
    "        it += 1\n",
    "        if norm < eps:\n",
    "            break\n",
    "    return p, np.array(hist), it"
   ]
  },
  {
   "cell_type": "code",
   "execution_count": null,
   "metadata": {},
   "outputs": [],
   "source": [
    "g_s, g_h, g_it = gradient_descent(himmelblau, init_point, 5e-3)\n",
    "print(\"Number of iterations for gradient descent: \", g_it)"
   ]
  },
  {
   "cell_type": "markdown",
   "metadata": {},
   "source": [
    "### Steepest Descent"
   ]
  },
  {
   "cell_type": "code",
   "execution_count": null,
   "metadata": {},
   "outputs": [],
   "source": [
    "def steepest_descent(func, point, lr, eps=1e-2, max_it=500):\n",
    "    def get_alpha(p, lr0):\n",
    "        f = lambda lr0: func(p-lr0 * jax.jacfwd(func)(p))\n",
    "        lr = lr0\n",
    "        lr_next = lr - jax.jacfwd(f)(lr)/(hessian(f)(lr))\n",
    "        while jnp.abs(lr_next - lr) > 1e-4:\n",
    "            lr = lr_next\n",
    "            lr_next = lr - jax.jacfwd(f)(lr)/(hessian(f)(lr))\n",
    "            lr_next = jnp.maximum(lr_next, 0.0)\n",
    "        return lr_next\n",
    "    def steepest_descent_1it(p, lr):\n",
    "        lr = get_alpha(p, lr)\n",
    "        jacob = jax.jacfwd(func)(p)\n",
    "        return p - lr * jacob, lr, jnp.linalg.norm(jacob)\n",
    "    p = point\n",
    "    hist = [np.asarray(p)]\n",
    "    it = 0\n",
    "    for i in range(max_it):\n",
    "        p, lr, norm = steepest_descent_1it(p, lr)\n",
    "        hist.append(np.asarray(p))\n",
    "        it += 1\n",
    "        if norm < eps:\n",
    "            break\n",
    "    return p, np.array(hist), it"
   ]
  },
  {
   "cell_type": "code",
   "execution_count": null,
   "metadata": {},
   "outputs": [],
   "source": [
    "s_s, s_h, s_it = steepest_descent(himmelblau, init_point, 5e-3)\n",
    "print(\"Number of iterations for steepest descent: \", s_it)"
   ]
  },
  {
   "cell_type": "code",
   "execution_count": null,
   "metadata": {},
   "outputs": [],
   "source": [
    "plt.figure(figsize=(16, 12), dpi=80)\n",
    "c = plt.contourf(X, Y, Z, locator=ticker.LogLocator(), levels=100)\n",
    "plot_arrows(aX, aY, ajacob)\n",
    "plt.colorbar(c)\n",
    "plt.plot(s_h.T[0], s_h.T[1], c='m', label='Steepest Descent')\n",
    "plt.plot(g_h.T[0], g_h.T[1], c='b', label='Gradient Descent')\n",
    "plt.ylim(-5, 5)\n",
    "plt.xlim(-5, 5)\n",
    "plt.legend(loc=\"upper right\")\n",
    "plt.xlabel('x')\n",
    "plt.ylabel('y')\n",
    "plt.title('Default Himmelblau Contour Plot')\n",
    "plt.show()"
   ]
  },
  {
   "cell_type": "markdown",
   "metadata": {},
   "source": [
    "### Sensitivity to Initial Alpha"
   ]
  },
  {
   "cell_type": "code",
   "execution_count": null,
   "metadata": {},
   "outputs": [],
   "source": [
    "def get_alpha(p, lr0):\n",
    "    f = lambda lr0: himmelblau(p-lr0 * jax.jacfwd(himmelblau)(p))\n",
    "    lr_next = lr0 - jax.jacfwd(f)(lr0)/(hessian(f)(lr0))\n",
    "#     return jnp.minimum(jnp.maximum(lr_next, 1e-5), 1e-2)\n",
    "    return jnp.maximum(lr_next, 0.0)\n",
    "jit_get_alpha = jax.jit(get_alpha)\n",
    "def steepest_descent_1it(p, lr):\n",
    "    lr = jit_get_alpha(p, lr)\n",
    "    jacob = jax.jacfwd(himmelblau)(p)\n",
    "    return p - lr * jacob, lr, jnp.linalg.norm(jacob)\n",
    "f_d = lambda lr: himmelblau(steepest_descent_1it(init_point, lr)[0])\n",
    "djacob = jax.vmap(jax.jacfwd(f_d), 0, 0)(jnp.linspace(0.0, 1e-1, 100))"
   ]
  },
  {
   "cell_type": "code",
   "execution_count": null,
   "metadata": {},
   "outputs": [],
   "source": [
    "plt.figure(figsize=(8, 6), dpi=80)\n",
    "plt.plot(jnp.linspace(0.0, 1e-2, 100), djacob)\n",
    "plt.xlabel('x')\n",
    "plt.ylabel('y')\n",
    "plt.title('Gradient of 1 iteration steepest descent update wrt initial alpha')"
   ]
  },
  {
   "cell_type": "markdown",
   "metadata": {},
   "source": [
    "### Himmelblau Function constrained to x < 0 & y < 0"
   ]
  },
  {
   "cell_type": "code",
   "execution_count": null,
   "metadata": {},
   "outputs": [],
   "source": [
    "def constrained_himmelblau(inp, gamma=1.):\n",
    "    scale = 1e2\n",
    "    x, y = inp[0], inp[1]\n",
    "    return (x**2 + y - 11) ** 2 + (x + y**2 - 7) ** 2 \\\n",
    "                    + gamma * jnp.maximum(0, scale * x**3) \\\n",
    "                    + gamma * jnp.maximum(0, scale * y**3)\n",
    "\n",
    "def batch_constrainedhimmelblau(data):\n",
    "    return jax.vmap(constrained_himmelblau, 0, 0)(data)"
   ]
  },
  {
   "cell_type": "code",
   "execution_count": null,
   "metadata": {},
   "outputs": [],
   "source": [
    "constrained_Z = batch_constrainedhimmelblau(data)\n",
    "print(constrained_Z.shape)\n",
    "constrained_Z = constrained_Z.reshape(X.shape)\n",
    "print(constrained_Z.shape)"
   ]
  },
  {
   "cell_type": "code",
   "execution_count": null,
   "metadata": {},
   "outputs": [],
   "source": [
    "constrained_jacob = jax.vmap(jax.jacfwd(constrained_himmelblau), 0, 0)(data)"
   ]
  },
  {
   "cell_type": "code",
   "execution_count": null,
   "metadata": {},
   "outputs": [],
   "source": [
    "plt.figure(figsize=(8, 6), dpi=80)\n",
    "c = plt.contourf(X, Y, constrained_Z, locator=ticker.LogLocator(), levels=100)\n",
    "cajacob = jax.vmap(jax.jacfwd(constrained_himmelblau), 0, 0)(adata)\n",
    "plot_arrows(aX, aY, cajacob)\n",
    "plt.colorbar(c)\n",
    "plt.xlabel('x')\n",
    "plt.ylabel('y')\n",
    "plt.title('Constrained Himmelblau Contour Plot')\n",
    "plt.show()"
   ]
  },
  {
   "cell_type": "code",
   "execution_count": null,
   "metadata": {},
   "outputs": [],
   "source": [
    "fig, axes = plt.subplots(1, 2,figsize=(12, 6), dpi=80)\n",
    "c1 = axes[0].contourf(X, Y, constrained_jacob[:, 0].reshape(X.shape), levels=50)\n",
    "c2 = axes[1].contourf(X, Y, constrained_jacob[:, 1].reshape(X.shape), levels=50)\n",
    "plt.colorbar(c1, ax=axes[0])\n",
    "plt.colorbar(c2, ax=axes[1])\n",
    "axes[0].set_xlabel('x')\n",
    "axes[0].set_ylabel('y')\n",
    "axes[0].set_title('Constrained Himmelblau Jacobian Plot (wrt x)')\n",
    "axes[1].set_xlabel('x')\n",
    "axes[1].set_ylabel('y')\n",
    "axes[1].set_title('Constrained Himmelblau Jacobian Plot (wrt y)')"
   ]
  },
  {
   "cell_type": "code",
   "execution_count": null,
   "metadata": {},
   "outputs": [],
   "source": [
    "cg_s, cg_h, cg_it = gradient_descent(constrained_himmelblau, init_point, 5e-3)\n",
    "print(\"Number of iterations for gradient descent: \", cg_it)"
   ]
  },
  {
   "cell_type": "code",
   "execution_count": null,
   "metadata": {},
   "outputs": [],
   "source": [
    "cs_s, cs_h, cs_it = steepest_descent(constrained_himmelblau, init_point, 5e-3)\n",
    "print(\"Number of iterations for steepest descent: \", cs_it)"
   ]
  },
  {
   "cell_type": "code",
   "execution_count": null,
   "metadata": {},
   "outputs": [],
   "source": [
    "plt.figure(figsize=(16, 12), dpi=80)\n",
    "c = plt.contourf(X, Y, constrained_Z, locator=ticker.LogLocator(), levels=100)\n",
    "plot_arrows(aX, aY, cajacob)\n",
    "plt.colorbar(c)\n",
    "plt.plot(cs_h.T[0], cs_h.T[1], c='m', label='Steepest Descent')\n",
    "plt.plot(cg_h.T[0], cg_h.T[1], c='b', label='Gradient Descent')\n",
    "plt.ylim(-5, 5)\n",
    "plt.xlim(-5, 5)\n",
    "plt.legend(loc=\"upper right\")\n",
    "plt.xlabel('x')\n",
    "plt.ylabel('y')\n",
    "plt.title('Constrained Himmelblau Contour Plot')\n",
    "plt.show()"
   ]
  },
  {
   "cell_type": "code",
   "execution_count": null,
   "metadata": {},
   "outputs": [],
   "source": []
  }
 ],
 "metadata": {
  "kernelspec": {
   "display_name": "Python 3",
   "language": "python",
   "name": "python3"
  },
  "language_info": {
   "codemirror_mode": {
    "name": "ipython",
    "version": 3
   },
   "file_extension": ".py",
   "mimetype": "text/x-python",
   "name": "python",
   "nbconvert_exporter": "python",
   "pygments_lexer": "ipython3",
   "version": "3.8.13"
  }
 },
 "nbformat": 4,
 "nbformat_minor": 5
}
